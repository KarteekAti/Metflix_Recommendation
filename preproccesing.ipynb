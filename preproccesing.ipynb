{
 "cells": [
  {
   "cell_type": "code",
   "execution_count": 2,
   "metadata": {},
   "outputs": [],
   "source": [
    "import pandas as pd\n",
    "import numpy as np"
   ]
  },
  {
   "cell_type": "code",
   "execution_count": 3,
   "metadata": {},
   "outputs": [],
   "source": [
    "df = pd.read_csv('tmdb_movies_data.csv')\n"
   ]
  },
  {
   "cell_type": "code",
   "execution_count": 4,
   "metadata": {},
   "outputs": [],
   "source": [
    "df = df[['id','original_title','cast','director','keywords','overview','genres','release_year','vote_average']]"
   ]
  },
  {
   "cell_type": "code",
   "execution_count": 5,
   "metadata": {},
   "outputs": [],
   "source": [
    "df.dropna(inplace=True)\n",
    "df = df.reset_index(drop=True)"
   ]
  },
  {
   "cell_type": "code",
   "execution_count": 6,
   "metadata": {},
   "outputs": [],
   "source": [
    "df.drop(df[df['original_title'] == 'Cazuza - O tempo nÃ£o pÃ¡ra'].index, inplace= True)\n",
    "df.drop(df[df['original_title'] == 'í•˜ìš¸ë§'].index, inplace= True)\n",
    "df = df.reset_index(drop=True)"
   ]
  },
  {
   "cell_type": "code",
   "execution_count": 7,
   "metadata": {},
   "outputs": [],
   "source": [
    "def remove(obj):\n",
    "    return obj.split('|')"
   ]
  },
  {
   "cell_type": "code",
   "execution_count": 8,
   "metadata": {},
   "outputs": [],
   "source": [
    "df['cast'] = df['cast'].apply(lambda x:remove(str(x)))"
   ]
  },
  {
   "cell_type": "code",
   "execution_count": 9,
   "metadata": {},
   "outputs": [],
   "source": [
    "df['keywords'] = df['keywords'].apply(lambda x:remove(str(x)))\n",
    "df['genres'] = df['genres'].apply(lambda x:remove(str(x)))\n"
   ]
  },
  {
   "cell_type": "code",
   "execution_count": 10,
   "metadata": {},
   "outputs": [],
   "source": [
    "rec_df = df"
   ]
  },
  {
   "cell_type": "code",
   "execution_count": 11,
   "metadata": {},
   "outputs": [
    {
     "data": {
      "text/html": [
       "<div>\n",
       "<style scoped>\n",
       "    .dataframe tbody tr th:only-of-type {\n",
       "        vertical-align: middle;\n",
       "    }\n",
       "\n",
       "    .dataframe tbody tr th {\n",
       "        vertical-align: top;\n",
       "    }\n",
       "\n",
       "    .dataframe thead th {\n",
       "        text-align: right;\n",
       "    }\n",
       "</style>\n",
       "<table border=\"1\" class=\"dataframe\">\n",
       "  <thead>\n",
       "    <tr style=\"text-align: right;\">\n",
       "      <th></th>\n",
       "      <th>id</th>\n",
       "      <th>original_title</th>\n",
       "      <th>cast</th>\n",
       "      <th>director</th>\n",
       "      <th>keywords</th>\n",
       "      <th>overview</th>\n",
       "      <th>genres</th>\n",
       "      <th>release_year</th>\n",
       "      <th>vote_average</th>\n",
       "    </tr>\n",
       "  </thead>\n",
       "  <tbody>\n",
       "    <tr>\n",
       "      <th>251</th>\n",
       "      <td>355338</td>\n",
       "      <td>Riley's First Date?</td>\n",
       "      <td>[Amy Poehler, Phyllis Smith, Bill Hader, Lewis...</td>\n",
       "      <td>Josh Cooley</td>\n",
       "      <td>[mother daughter relationship, rock music, gir...</td>\n",
       "      <td>Riley, now 12, is hanging out at home with her...</td>\n",
       "      <td>[Animation, Family]</td>\n",
       "      <td>2015</td>\n",
       "      <td>7.3</td>\n",
       "    </tr>\n",
       "  </tbody>\n",
       "</table>\n",
       "</div>"
      ],
      "text/plain": [
       "         id       original_title  \\\n",
       "251  355338  Riley's First Date?   \n",
       "\n",
       "                                                  cast     director  \\\n",
       "251  [Amy Poehler, Phyllis Smith, Bill Hader, Lewis...  Josh Cooley   \n",
       "\n",
       "                                              keywords  \\\n",
       "251  [mother daughter relationship, rock music, gir...   \n",
       "\n",
       "                                              overview               genres  \\\n",
       "251  Riley, now 12, is hanging out at home with her...  [Animation, Family]   \n",
       "\n",
       "    release_year vote_average  \n",
       "251         2015          7.3  "
      ]
     },
     "execution_count": 11,
     "metadata": {},
     "output_type": "execute_result"
    }
   ],
   "source": [
    "df[df['id'] == 355338]"
   ]
  },
  {
   "cell_type": "code",
   "execution_count": 12,
   "metadata": {},
   "outputs": [],
   "source": [
    "rec_df['genres'] = rec_df['genres'].apply(lambda x:x[0])"
   ]
  },
  {
   "cell_type": "code",
   "execution_count": 13,
   "metadata": {},
   "outputs": [],
   "source": [
    "rec_df = rec_df[['id','original_title','genres','vote_average']]"
   ]
  },
  {
   "cell_type": "code",
   "execution_count": 14,
   "metadata": {},
   "outputs": [],
   "source": [
    "import pickle\n",
    "pickle.dump(rec_df,open('movie_data.sav','wb'))"
   ]
  },
  {
   "cell_type": "code",
   "execution_count": 15,
   "metadata": {},
   "outputs": [],
   "source": [
    "df['cast'] = df['cast'].apply(lambda x:x[:4])\n"
   ]
  },
  {
   "cell_type": "code",
   "execution_count": 16,
   "metadata": {},
   "outputs": [],
   "source": [
    "df['cast'] = df['cast'].apply(lambda x:[str(i).replace(' ','') for i in x])"
   ]
  },
  {
   "cell_type": "code",
   "execution_count": 17,
   "metadata": {},
   "outputs": [],
   "source": [
    "df['director'] = df['director'].apply(lambda x:[str(x).replace(' ','')])"
   ]
  },
  {
   "cell_type": "code",
   "execution_count": 18,
   "metadata": {},
   "outputs": [],
   "source": [
    "df['keywords'] = df['keywords'].apply(lambda x:[str(i).replace(' ','') for i in x])"
   ]
  },
  {
   "cell_type": "code",
   "execution_count": 19,
   "metadata": {},
   "outputs": [],
   "source": [
    "df['genres'] = df['genres'].apply(lambda x:[str(i).replace(' ','') for i in x])"
   ]
  },
  {
   "cell_type": "code",
   "execution_count": 20,
   "metadata": {},
   "outputs": [],
   "source": [
    "df['overview'] = df['overview'].apply(lambda x:str(x).split(' '))"
   ]
  },
  {
   "cell_type": "code",
   "execution_count": 21,
   "metadata": {},
   "outputs": [],
   "source": [
    "df['release_year'] = df['release_year'].apply(lambda x:[str(x)])"
   ]
  },
  {
   "cell_type": "code",
   "execution_count": 22,
   "metadata": {},
   "outputs": [],
   "source": [
    "df['corpus'] = df['overview'] + df['keywords'] + df['genres'] + df['cast'] + df['director'] + df['release_year']"
   ]
  },
  {
   "cell_type": "code",
   "execution_count": 23,
   "metadata": {},
   "outputs": [],
   "source": [
    "new_df = df[['id','original_title','corpus','vote_average']]"
   ]
  },
  {
   "cell_type": "code",
   "execution_count": 24,
   "metadata": {},
   "outputs": [
    {
     "name": "stderr",
     "output_type": "stream",
     "text": [
      "/tmp/ipykernel_3477/3919970262.py:1: SettingWithCopyWarning: \n",
      "A value is trying to be set on a copy of a slice from a DataFrame.\n",
      "Try using .loc[row_indexer,col_indexer] = value instead\n",
      "\n",
      "See the caveats in the documentation: https://pandas.pydata.org/pandas-docs/stable/user_guide/indexing.html#returning-a-view-versus-a-copy\n",
      "  new_df['corpus'] = new_df['corpus'].apply(lambda x: \" \".join(x))\n"
     ]
    }
   ],
   "source": [
    "new_df['corpus'] = new_df['corpus'].apply(lambda x: \" \".join(x))"
   ]
  },
  {
   "cell_type": "code",
   "execution_count": 25,
   "metadata": {},
   "outputs": [
    {
     "name": "stderr",
     "output_type": "stream",
     "text": [
      "/tmp/ipykernel_3477/420603864.py:1: SettingWithCopyWarning: \n",
      "A value is trying to be set on a copy of a slice from a DataFrame.\n",
      "Try using .loc[row_indexer,col_indexer] = value instead\n",
      "\n",
      "See the caveats in the documentation: https://pandas.pydata.org/pandas-docs/stable/user_guide/indexing.html#returning-a-view-versus-a-copy\n",
      "  new_df['corpus'] = new_df['corpus'].apply(lambda x: str.lower(x))\n"
     ]
    }
   ],
   "source": [
    "new_df['corpus'] = new_df['corpus'].apply(lambda x: str.lower(x))"
   ]
  },
  {
   "cell_type": "code",
   "execution_count": 26,
   "metadata": {},
   "outputs": [],
   "source": [
    "from nltk.stem.porter import PorterStemmer\n",
    "ps = PorterStemmer()"
   ]
  },
  {
   "cell_type": "code",
   "execution_count": 27,
   "metadata": {},
   "outputs": [],
   "source": [
    "def stem(text):\n",
    "    words = []\n",
    "    for i in text.split():\n",
    "        words.append(ps.stem(i))\n",
    "    \n",
    "    return \" \".join(words)"
   ]
  },
  {
   "cell_type": "code",
   "execution_count": 28,
   "metadata": {},
   "outputs": [],
   "source": [
    "# new_df['corpus'] = new_df['corpus'].apply(stem)"
   ]
  },
  {
   "cell_type": "code",
   "execution_count": 29,
   "metadata": {},
   "outputs": [],
   "source": [
    "from sklearn.feature_extraction.text import CountVectorizer"
   ]
  },
  {
   "cell_type": "markdown",
   "metadata": {},
   "source": [
    "# Stop Words = a,the,of,after,now"
   ]
  },
  {
   "cell_type": "code",
   "execution_count": 30,
   "metadata": {},
   "outputs": [],
   "source": [
    "cv = CountVectorizer(stop_words='english',min_df=2)"
   ]
  },
  {
   "cell_type": "code",
   "execution_count": 31,
   "metadata": {},
   "outputs": [],
   "source": [
    "data = cv.fit_transform(new_df['corpus']).toarray()"
   ]
  },
  {
   "cell_type": "code",
   "execution_count": 32,
   "metadata": {},
   "outputs": [
    {
     "data": {
      "text/html": [
       "<div>\n",
       "<style scoped>\n",
       "    .dataframe tbody tr th:only-of-type {\n",
       "        vertical-align: middle;\n",
       "    }\n",
       "\n",
       "    .dataframe tbody tr th {\n",
       "        vertical-align: top;\n",
       "    }\n",
       "\n",
       "    .dataframe thead th {\n",
       "        text-align: right;\n",
       "    }\n",
       "</style>\n",
       "<table border=\"1\" class=\"dataframe\">\n",
       "  <thead>\n",
       "    <tr style=\"text-align: right;\">\n",
       "      <th></th>\n",
       "      <th>id</th>\n",
       "      <th>original_title</th>\n",
       "      <th>cast</th>\n",
       "      <th>director</th>\n",
       "      <th>keywords</th>\n",
       "      <th>overview</th>\n",
       "      <th>genres</th>\n",
       "      <th>release_year</th>\n",
       "      <th>vote_average</th>\n",
       "      <th>corpus</th>\n",
       "    </tr>\n",
       "  </thead>\n",
       "  <tbody>\n",
       "    <tr>\n",
       "      <th>0</th>\n",
       "      <td>135397</td>\n",
       "      <td>Jurassic World</td>\n",
       "      <td>[ChrisPratt, BryceDallasHoward, IrrfanKhan, Vi...</td>\n",
       "      <td>[ColinTrevorrow]</td>\n",
       "      <td>[monster, dna, tyrannosaurusrex, velociraptor,...</td>\n",
       "      <td>[Twenty-two, years, after, the, events, of, Ju...</td>\n",
       "      <td>[A, c, t, i, o, n]</td>\n",
       "      <td>[2015]</td>\n",
       "      <td>6.5</td>\n",
       "      <td>[Twenty-two, years, after, the, events, of, Ju...</td>\n",
       "    </tr>\n",
       "    <tr>\n",
       "      <th>1</th>\n",
       "      <td>76341</td>\n",
       "      <td>Mad Max: Fury Road</td>\n",
       "      <td>[TomHardy, CharlizeTheron, HughKeays-Byrne, Ni...</td>\n",
       "      <td>[GeorgeMiller]</td>\n",
       "      <td>[future, chase, post-apocalyptic, dystopia, au...</td>\n",
       "      <td>[An, apocalyptic, story, set, in, the, furthes...</td>\n",
       "      <td>[A, c, t, i, o, n]</td>\n",
       "      <td>[2015]</td>\n",
       "      <td>7.1</td>\n",
       "      <td>[An, apocalyptic, story, set, in, the, furthes...</td>\n",
       "    </tr>\n",
       "    <tr>\n",
       "      <th>2</th>\n",
       "      <td>262500</td>\n",
       "      <td>Insurgent</td>\n",
       "      <td>[ShaileneWoodley, TheoJames, KateWinslet, Anse...</td>\n",
       "      <td>[RobertSchwentke]</td>\n",
       "      <td>[basedonnovel, revolution, dystopia, sequel, d...</td>\n",
       "      <td>[Beatrice, Prior, must, confront, her, inner, ...</td>\n",
       "      <td>[A, d, v, e, n, t, u, r, e]</td>\n",
       "      <td>[2015]</td>\n",
       "      <td>6.3</td>\n",
       "      <td>[Beatrice, Prior, must, confront, her, inner, ...</td>\n",
       "    </tr>\n",
       "    <tr>\n",
       "      <th>3</th>\n",
       "      <td>140607</td>\n",
       "      <td>Star Wars: The Force Awakens</td>\n",
       "      <td>[HarrisonFord, MarkHamill, CarrieFisher, AdamD...</td>\n",
       "      <td>[J.J.Abrams]</td>\n",
       "      <td>[android, spaceship, jedi, spaceopera, 3d]</td>\n",
       "      <td>[Thirty, years, after, defeating, the, Galacti...</td>\n",
       "      <td>[A, c, t, i, o, n]</td>\n",
       "      <td>[2015]</td>\n",
       "      <td>7.5</td>\n",
       "      <td>[Thirty, years, after, defeating, the, Galacti...</td>\n",
       "    </tr>\n",
       "    <tr>\n",
       "      <th>4</th>\n",
       "      <td>168259</td>\n",
       "      <td>Furious 7</td>\n",
       "      <td>[VinDiesel, PaulWalker, JasonStatham, Michelle...</td>\n",
       "      <td>[JamesWan]</td>\n",
       "      <td>[carrace, speed, revenge, suspense, car]</td>\n",
       "      <td>[Deckard, Shaw, seeks, revenge, against, Domin...</td>\n",
       "      <td>[A, c, t, i, o, n]</td>\n",
       "      <td>[2015]</td>\n",
       "      <td>7.3</td>\n",
       "      <td>[Deckard, Shaw, seeks, revenge, against, Domin...</td>\n",
       "    </tr>\n",
       "    <tr>\n",
       "      <th>...</th>\n",
       "      <td>...</td>\n",
       "      <td>...</td>\n",
       "      <td>...</td>\n",
       "      <td>...</td>\n",
       "      <td>...</td>\n",
       "      <td>...</td>\n",
       "      <td>...</td>\n",
       "      <td>...</td>\n",
       "      <td>...</td>\n",
       "      <td>...</td>\n",
       "    </tr>\n",
       "    <tr>\n",
       "      <th>9298</th>\n",
       "      <td>21</td>\n",
       "      <td>The Endless Summer</td>\n",
       "      <td>[MichaelHynson, RobertAugust, Lord'TallyHo'Ble...</td>\n",
       "      <td>[BruceBrown]</td>\n",
       "      <td>[surfer, surfboard, surfing]</td>\n",
       "      <td>[The, Endless, Summer,, by, Bruce, Brown,, is,...</td>\n",
       "      <td>[D, o, c, u, m, e, n, t, a, r, y]</td>\n",
       "      <td>[1966]</td>\n",
       "      <td>7.4</td>\n",
       "      <td>[The, Endless, Summer,, by, Bruce, Brown,, is,...</td>\n",
       "    </tr>\n",
       "    <tr>\n",
       "      <th>9299</th>\n",
       "      <td>20379</td>\n",
       "      <td>Grand Prix</td>\n",
       "      <td>[JamesGarner, EvaMarieSaint, YvesMontand, Tosh...</td>\n",
       "      <td>[JohnFrankenheimer]</td>\n",
       "      <td>[carrace, racing, formula1]</td>\n",
       "      <td>[Grand, Prix, driver, Pete, Aron, is, fired, b...</td>\n",
       "      <td>[A, c, t, i, o, n]</td>\n",
       "      <td>[1966]</td>\n",
       "      <td>5.7</td>\n",
       "      <td>[Grand, Prix, driver, Pete, Aron, is, fired, b...</td>\n",
       "    </tr>\n",
       "    <tr>\n",
       "      <th>9300</th>\n",
       "      <td>39768</td>\n",
       "      <td>Beregis Avtomobilya</td>\n",
       "      <td>[InnokentiySmoktunovskiy, OlegEfremov, GeorgiZ...</td>\n",
       "      <td>[EldarRyazanov]</td>\n",
       "      <td>[car, trolley, stealingcar]</td>\n",
       "      <td>[An, insurance, agent, who, moonlights, as, a,...</td>\n",
       "      <td>[M, y, s, t, e, r, y]</td>\n",
       "      <td>[1966]</td>\n",
       "      <td>6.5</td>\n",
       "      <td>[An, insurance, agent, who, moonlights, as, a,...</td>\n",
       "    </tr>\n",
       "    <tr>\n",
       "      <th>9301</th>\n",
       "      <td>21449</td>\n",
       "      <td>What's Up, Tiger Lily?</td>\n",
       "      <td>[TatsuyaMihashi, AkikoWakabayashi, MieHama, Jo...</td>\n",
       "      <td>[WoodyAllen]</td>\n",
       "      <td>[spoof]</td>\n",
       "      <td>[In, comic, Woody, Allen's, film, debut,, he, ...</td>\n",
       "      <td>[A, c, t, i, o, n]</td>\n",
       "      <td>[1966]</td>\n",
       "      <td>5.4</td>\n",
       "      <td>[In, comic, Woody, Allen's, film, debut,, he, ...</td>\n",
       "    </tr>\n",
       "    <tr>\n",
       "      <th>9302</th>\n",
       "      <td>22293</td>\n",
       "      <td>Manos: The Hands of Fate</td>\n",
       "      <td>[HaroldP.Warren, TomNeyman, JohnReynolds, Dian...</td>\n",
       "      <td>[HaroldP.Warren]</td>\n",
       "      <td>[fire, gun, drive, sacrifice, flashlight]</td>\n",
       "      <td>[A, family, gets, lost, on, the, road, and, st...</td>\n",
       "      <td>[H, o, r, r, o, r]</td>\n",
       "      <td>[1966]</td>\n",
       "      <td>1.5</td>\n",
       "      <td>[A, family, gets, lost, on, the, road, and, st...</td>\n",
       "    </tr>\n",
       "  </tbody>\n",
       "</table>\n",
       "<p>9303 rows × 10 columns</p>\n",
       "</div>"
      ],
      "text/plain": [
       "          id                original_title  \\\n",
       "0     135397                Jurassic World   \n",
       "1      76341            Mad Max: Fury Road   \n",
       "2     262500                     Insurgent   \n",
       "3     140607  Star Wars: The Force Awakens   \n",
       "4     168259                     Furious 7   \n",
       "...      ...                           ...   \n",
       "9298      21            The Endless Summer   \n",
       "9299   20379                    Grand Prix   \n",
       "9300   39768           Beregis Avtomobilya   \n",
       "9301   21449        What's Up, Tiger Lily?   \n",
       "9302   22293      Manos: The Hands of Fate   \n",
       "\n",
       "                                                   cast             director  \\\n",
       "0     [ChrisPratt, BryceDallasHoward, IrrfanKhan, Vi...     [ColinTrevorrow]   \n",
       "1     [TomHardy, CharlizeTheron, HughKeays-Byrne, Ni...       [GeorgeMiller]   \n",
       "2     [ShaileneWoodley, TheoJames, KateWinslet, Anse...    [RobertSchwentke]   \n",
       "3     [HarrisonFord, MarkHamill, CarrieFisher, AdamD...         [J.J.Abrams]   \n",
       "4     [VinDiesel, PaulWalker, JasonStatham, Michelle...           [JamesWan]   \n",
       "...                                                 ...                  ...   \n",
       "9298  [MichaelHynson, RobertAugust, Lord'TallyHo'Ble...         [BruceBrown]   \n",
       "9299  [JamesGarner, EvaMarieSaint, YvesMontand, Tosh...  [JohnFrankenheimer]   \n",
       "9300  [InnokentiySmoktunovskiy, OlegEfremov, GeorgiZ...      [EldarRyazanov]   \n",
       "9301  [TatsuyaMihashi, AkikoWakabayashi, MieHama, Jo...         [WoodyAllen]   \n",
       "9302  [HaroldP.Warren, TomNeyman, JohnReynolds, Dian...     [HaroldP.Warren]   \n",
       "\n",
       "                                               keywords  \\\n",
       "0     [monster, dna, tyrannosaurusrex, velociraptor,...   \n",
       "1     [future, chase, post-apocalyptic, dystopia, au...   \n",
       "2     [basedonnovel, revolution, dystopia, sequel, d...   \n",
       "3            [android, spaceship, jedi, spaceopera, 3d]   \n",
       "4              [carrace, speed, revenge, suspense, car]   \n",
       "...                                                 ...   \n",
       "9298                       [surfer, surfboard, surfing]   \n",
       "9299                        [carrace, racing, formula1]   \n",
       "9300                        [car, trolley, stealingcar]   \n",
       "9301                                            [spoof]   \n",
       "9302          [fire, gun, drive, sacrifice, flashlight]   \n",
       "\n",
       "                                               overview  \\\n",
       "0     [Twenty-two, years, after, the, events, of, Ju...   \n",
       "1     [An, apocalyptic, story, set, in, the, furthes...   \n",
       "2     [Beatrice, Prior, must, confront, her, inner, ...   \n",
       "3     [Thirty, years, after, defeating, the, Galacti...   \n",
       "4     [Deckard, Shaw, seeks, revenge, against, Domin...   \n",
       "...                                                 ...   \n",
       "9298  [The, Endless, Summer,, by, Bruce, Brown,, is,...   \n",
       "9299  [Grand, Prix, driver, Pete, Aron, is, fired, b...   \n",
       "9300  [An, insurance, agent, who, moonlights, as, a,...   \n",
       "9301  [In, comic, Woody, Allen's, film, debut,, he, ...   \n",
       "9302  [A, family, gets, lost, on, the, road, and, st...   \n",
       "\n",
       "                                 genres release_year vote_average  \\\n",
       "0                    [A, c, t, i, o, n]       [2015]          6.5   \n",
       "1                    [A, c, t, i, o, n]       [2015]          7.1   \n",
       "2           [A, d, v, e, n, t, u, r, e]       [2015]          6.3   \n",
       "3                    [A, c, t, i, o, n]       [2015]          7.5   \n",
       "4                    [A, c, t, i, o, n]       [2015]          7.3   \n",
       "...                                 ...          ...          ...   \n",
       "9298  [D, o, c, u, m, e, n, t, a, r, y]       [1966]          7.4   \n",
       "9299                 [A, c, t, i, o, n]       [1966]          5.7   \n",
       "9300              [M, y, s, t, e, r, y]       [1966]          6.5   \n",
       "9301                 [A, c, t, i, o, n]       [1966]          5.4   \n",
       "9302                 [H, o, r, r, o, r]       [1966]          1.5   \n",
       "\n",
       "                                                 corpus  \n",
       "0     [Twenty-two, years, after, the, events, of, Ju...  \n",
       "1     [An, apocalyptic, story, set, in, the, furthes...  \n",
       "2     [Beatrice, Prior, must, confront, her, inner, ...  \n",
       "3     [Thirty, years, after, defeating, the, Galacti...  \n",
       "4     [Deckard, Shaw, seeks, revenge, against, Domin...  \n",
       "...                                                 ...  \n",
       "9298  [The, Endless, Summer,, by, Bruce, Brown,, is,...  \n",
       "9299  [Grand, Prix, driver, Pete, Aron, is, fired, b...  \n",
       "9300  [An, insurance, agent, who, moonlights, as, a,...  \n",
       "9301  [In, comic, Woody, Allen's, film, debut,, he, ...  \n",
       "9302  [A, family, gets, lost, on, the, road, and, st...  \n",
       "\n",
       "[9303 rows x 10 columns]"
      ]
     },
     "execution_count": 32,
     "metadata": {},
     "output_type": "execute_result"
    }
   ],
   "source": [
    "    df"
   ]
  },
  {
   "cell_type": "code",
   "execution_count": 33,
   "metadata": {},
   "outputs": [],
   "source": [
    "from sklearn.metrics.pairwise import cosine_similarity"
   ]
  },
  {
   "cell_type": "code",
   "execution_count": 34,
   "metadata": {},
   "outputs": [],
   "source": [
    "similarity = cosine_similarity(data)"
   ]
  },
  {
   "cell_type": "code",
   "execution_count": 35,
   "metadata": {},
   "outputs": [],
   "source": [
    "new_df = new_df.rename({'original_title':'title'},axis=1)"
   ]
  },
  {
   "cell_type": "code",
   "execution_count": 36,
   "metadata": {},
   "outputs": [
    {
     "data": {
      "text/plain": [
       "[(4395, 0.27931019386546413),\n",
       " (8695, 0.23911404992940524),\n",
       " (8666, 0.22156468376279895),\n",
       " (5701, 0.18181818181818185),\n",
       " (405, 0.16283473681973243),\n",
       " (37, 0.15974461276617435),\n",
       " (226, 0.14083575804390608),\n",
       " (6635, 0.1371450962647483),\n",
       " (7723, 0.13483997249264842),\n",
       " (85, 0.13273296830047474)]"
      ]
     },
     "execution_count": 36,
     "metadata": {},
     "output_type": "execute_result"
    }
   ],
   "source": [
    "sorted(list(enumerate(similarity[0])),reverse=True,key= lambda x:x[1])[1:11]"
   ]
  },
  {
   "cell_type": "code",
   "execution_count": 37,
   "metadata": {},
   "outputs": [
    {
     "data": {
      "text/plain": [
       "id                                                           135397\n",
       "original_title                                       Jurassic World\n",
       "cast              [ChrisPratt, BryceDallasHoward, IrrfanKhan, Vi...\n",
       "director                                           [ColinTrevorrow]\n",
       "keywords          [monster, dna, tyrannosaurusrex, velociraptor,...\n",
       "overview          [Twenty-two, years, after, the, events, of, Ju...\n",
       "genres                                           [A, c, t, i, o, n]\n",
       "release_year                                                 [2015]\n",
       "vote_average                                                    6.5\n",
       "corpus            [Twenty-two, years, after, the, events, of, Ju...\n",
       "Name: 0, dtype: object"
      ]
     },
     "execution_count": 37,
     "metadata": {},
     "output_type": "execute_result"
    }
   ],
   "source": [
    "df.iloc[0]"
   ]
  },
  {
   "cell_type": "code",
   "execution_count": 38,
   "metadata": {},
   "outputs": [],
   "source": [
    "def recommend(movie):\n",
    "    movie_index = new_df[new_df['id'] == int(movie)].index[0]\n",
    "    movie_list = sorted(list(enumerate(similarity[movie_index])),reverse=True,key= lambda x:x[1])[1:11]\n",
    "    rec_movies = []\n",
    "    for i in movie_list:\n",
    "        rec_movies.append(new_df.iloc[i[0]][0])\n",
    "    return {'ids':rec_movies}"
   ]
  },
  {
   "cell_type": "code",
   "execution_count": 39,
   "metadata": {},
   "outputs": [
    {
     "data": {
      "text/plain": [
       "52"
      ]
     },
     "execution_count": 39,
     "metadata": {},
     "output_type": "execute_result"
    }
   ],
   "source": [
    "new_df[new_df['id'] == 253412].index[0]"
   ]
  },
  {
   "cell_type": "code",
   "execution_count": 60,
   "metadata": {},
   "outputs": [
    {
     "data": {
      "text/plain": [
       "155"
      ]
     },
     "execution_count": 60,
     "metadata": {},
     "output_type": "execute_result"
    }
   ],
   "source": [
    "new_df[new_df['title'] == 'The Dark Knight'].iloc[0][0]"
   ]
  },
  {
   "cell_type": "code",
   "execution_count": null,
   "metadata": {},
   "outputs": [
    {
     "data": {
      "text/plain": [
       "{'ids': [27786, 9659, 14642, 20504, 38695, 11036, 4917, 310135, 287424, 84226]}"
      ]
     },
     "execution_count": 205,
     "metadata": {},
     "output_type": "execute_result"
    }
   ],
   "source": [
    "recommend(76341)\n"
   ]
  },
  {
   "cell_type": "code",
   "execution_count": null,
   "metadata": {},
   "outputs": [],
   "source": [
    "genre = [\n",
    "    {\n",
    "        \"id\": 28,\n",
    "        \"name\": \"Action\"\n",
    "    },\n",
    "    {\n",
    "        \"id\": 12,\n",
    "        \"name\": \"Adventure\"\n",
    "    },\n",
    "    {\n",
    "        \"id\": 16,\n",
    "        \"name\": \"Animation\"\n",
    "    },\n",
    "    {\n",
    "        \"id\": 35,\n",
    "        \"name\": \"Comedy\"\n",
    "    },\n",
    "    {\n",
    "        \"id\": 80,\n",
    "        \"name\": \"Crime\"\n",
    "    },\n",
    "    {\n",
    "        \"id\": 99,\n",
    "        \"name\": \"Documentary\"\n",
    "    },\n",
    "    {\n",
    "        \"id\": 18,\n",
    "        \"name\": \"Drama\"\n",
    "    },\n",
    "    {\n",
    "        \"id\": 10751,\n",
    "        \"name\": \"Family\"\n",
    "    },\n",
    "    {\n",
    "        \"id\": 14,\n",
    "        \"name\": \"Fantasy\"\n",
    "    },\n",
    "    {\n",
    "        \"id\": 36,\n",
    "        \"name\": \"History\"\n",
    "    },\n",
    "    {\n",
    "        \"id\": 27,\n",
    "        \"name\": \"Horror\"\n",
    "    },\n",
    "    {\n",
    "        \"id\": 10402,\n",
    "        \"name\": \"Music\"\n",
    "    },\n",
    "    {\n",
    "        \"id\": 9648,\n",
    "        \"name\": \"Mystery\"\n",
    "    },\n",
    "    {\n",
    "        \"id\": 10749,\n",
    "        \"name\": \"Romance\"\n",
    "    },\n",
    "    {\n",
    "        \"id\": 878,\n",
    "        \"name\": \"Science Fiction\"\n",
    "    },\n",
    "    {\n",
    "        \"id\": 10770,\n",
    "        \"name\": \"TV Movie\"\n",
    "    },\n",
    "    {\n",
    "        \"id\": 53,\n",
    "        \"name\": \"Thriller\"\n",
    "    },\n",
    "    {\n",
    "        \"id\": 10752,\n",
    "        \"name\": \"War\"\n",
    "    },\n",
    "    {\n",
    "        \"id\": 37,\n",
    "        \"name\": \"Western\"\n",
    "    }\n",
    "]"
   ]
  },
  {
   "cell_type": "code",
   "execution_count": null,
   "metadata": {},
   "outputs": [],
   "source": [
    "import json\n",
    "movie_lists = []\n",
    "for i in genre:\n",
    "    movie_lists.append({ \n",
    "        i['name'] :rec_df[rec_df['genres'] == i['name']].iloc[0:19]['id'].to_list()\n",
    "    })\n"
   ]
  },
  {
   "cell_type": "code",
   "execution_count": null,
   "metadata": {},
   "outputs": [],
   "source": [
    "new_df.reset_index(drop=True)\n",
    "pickle.dump(new_df,open('data.sav','wb'))"
   ]
  },
  {
   "cell_type": "code",
   "execution_count": null,
   "metadata": {},
   "outputs": [],
   "source": [
    "pickle.dump(similarity,open('similarity.sav','wb'))"
   ]
  },
  {
   "cell_type": "code",
   "execution_count": null,
   "metadata": {},
   "outputs": [
    {
     "name": "stdout",
     "output_type": "stream",
     "text": [
      "4538\n"
     ]
    }
   ],
   "source": [
    "import random\n",
    "print(random.randint(0,9306))"
   ]
  }
 ],
 "metadata": {
  "interpreter": {
   "hash": "f9f85f796d01129d0dd105a088854619f454435301f6ffec2fea96ecbd9be4ac"
  },
  "kernelspec": {
   "display_name": "Python 3.9.5 64-bit",
   "language": "python",
   "name": "python3"
  },
  "language_info": {
   "codemirror_mode": {
    "name": "ipython",
    "version": 3
   },
   "file_extension": ".py",
   "mimetype": "text/x-python",
   "name": "python",
   "nbconvert_exporter": "python",
   "pygments_lexer": "ipython3",
   "version": "3.9.5"
  },
  "orig_nbformat": 4
 },
 "nbformat": 4,
 "nbformat_minor": 2
}
