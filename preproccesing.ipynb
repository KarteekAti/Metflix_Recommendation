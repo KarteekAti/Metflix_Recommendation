{
 "cells": [
  {
   "cell_type": "code",
   "execution_count": 92,
   "metadata": {},
   "outputs": [],
   "source": [
    "import pandas as pd\n",
    "import numpy as np"
   ]
  },
  {
   "cell_type": "code",
   "execution_count": 93,
   "metadata": {},
   "outputs": [],
   "source": [
    "df = pd.read_csv('tmdb_movies_data.csv')\n"
   ]
  },
  {
   "cell_type": "code",
   "execution_count": 94,
   "metadata": {},
   "outputs": [],
   "source": [
    "df = df[['id','original_title','cast','director','keywords','overview','genres','release_year','vote_average']]"
   ]
  },
  {
   "cell_type": "code",
   "execution_count": 95,
   "metadata": {},
   "outputs": [],
   "source": [
    "df.dropna(inplace=True)\n",
    "df = df.reset_index(drop=True)"
   ]
  },
  {
   "cell_type": "code",
   "execution_count": 96,
   "metadata": {},
   "outputs": [],
   "source": [
    "df.drop(df[df['original_title'] == 'Cazuza - O tempo nÃ£o pÃ¡ra'].index, inplace= True)\n",
    "df.drop(df[df['original_title'] == 'í•˜ìš¸ë§'].index, inplace= True)\n",
    "df = df.reset_index(drop=True)"
   ]
  },
  {
   "cell_type": "code",
   "execution_count": 97,
   "metadata": {},
   "outputs": [],
   "source": [
    "def remove(obj):\n",
    "    return obj.split('|')"
   ]
  },
  {
   "cell_type": "code",
   "execution_count": 98,
   "metadata": {},
   "outputs": [],
   "source": [
    "df['cast'] = df['cast'].apply(lambda x:remove(str(x)))"
   ]
  },
  {
   "cell_type": "code",
   "execution_count": 99,
   "metadata": {},
   "outputs": [],
   "source": [
    "df['keywords'] = df['keywords'].apply(lambda x:remove(str(x)))\n",
    "df['genres'] = df['genres'].apply(lambda x:remove(str(x)))\n"
   ]
  },
  {
   "cell_type": "code",
   "execution_count": 100,
   "metadata": {},
   "outputs": [],
   "source": [
    "rec_df = df"
   ]
  },
  {
   "cell_type": "code",
   "execution_count": 101,
   "metadata": {},
   "outputs": [
    {
     "data": {
      "text/html": [
       "<div>\n",
       "<style scoped>\n",
       "    .dataframe tbody tr th:only-of-type {\n",
       "        vertical-align: middle;\n",
       "    }\n",
       "\n",
       "    .dataframe tbody tr th {\n",
       "        vertical-align: top;\n",
       "    }\n",
       "\n",
       "    .dataframe thead th {\n",
       "        text-align: right;\n",
       "    }\n",
       "</style>\n",
       "<table border=\"1\" class=\"dataframe\">\n",
       "  <thead>\n",
       "    <tr style=\"text-align: right;\">\n",
       "      <th></th>\n",
       "      <th>id</th>\n",
       "      <th>original_title</th>\n",
       "      <th>cast</th>\n",
       "      <th>director</th>\n",
       "      <th>keywords</th>\n",
       "      <th>overview</th>\n",
       "      <th>genres</th>\n",
       "      <th>release_year</th>\n",
       "      <th>vote_average</th>\n",
       "    </tr>\n",
       "  </thead>\n",
       "  <tbody>\n",
       "    <tr>\n",
       "      <th>251</th>\n",
       "      <td>355338</td>\n",
       "      <td>Riley's First Date?</td>\n",
       "      <td>[Amy Poehler, Phyllis Smith, Bill Hader, Lewis...</td>\n",
       "      <td>Josh Cooley</td>\n",
       "      <td>[mother daughter relationship, rock music, gir...</td>\n",
       "      <td>Riley, now 12, is hanging out at home with her...</td>\n",
       "      <td>[Animation, Family]</td>\n",
       "      <td>2015</td>\n",
       "      <td>7.3</td>\n",
       "    </tr>\n",
       "  </tbody>\n",
       "</table>\n",
       "</div>"
      ],
      "text/plain": [
       "         id       original_title  \\\n",
       "251  355338  Riley's First Date?   \n",
       "\n",
       "                                                  cast     director  \\\n",
       "251  [Amy Poehler, Phyllis Smith, Bill Hader, Lewis...  Josh Cooley   \n",
       "\n",
       "                                              keywords  \\\n",
       "251  [mother daughter relationship, rock music, gir...   \n",
       "\n",
       "                                              overview               genres  \\\n",
       "251  Riley, now 12, is hanging out at home with her...  [Animation, Family]   \n",
       "\n",
       "    release_year vote_average  \n",
       "251         2015          7.3  "
      ]
     },
     "execution_count": 101,
     "metadata": {},
     "output_type": "execute_result"
    }
   ],
   "source": [
    "df[df['id'] == 355338]"
   ]
  },
  {
   "cell_type": "code",
   "execution_count": 102,
   "metadata": {},
   "outputs": [],
   "source": [
    "rec_df['genres'] = rec_df['genres'].apply(lambda x:x[0])"
   ]
  },
  {
   "cell_type": "code",
   "execution_count": 103,
   "metadata": {},
   "outputs": [],
   "source": [
    "rec_df = rec_df[['id','original_title','genres','vote_average']]"
   ]
  },
  {
   "cell_type": "code",
   "execution_count": 104,
   "metadata": {},
   "outputs": [],
   "source": [
    "import pickle\n",
    "pickle.dump(rec_df,open('movie_data.sav','wb'))"
   ]
  },
  {
   "cell_type": "code",
   "execution_count": 105,
   "metadata": {},
   "outputs": [],
   "source": [
    "df['cast'] = df['cast'].apply(lambda x:x[:4])\n"
   ]
  },
  {
   "cell_type": "code",
   "execution_count": 106,
   "metadata": {},
   "outputs": [],
   "source": [
    "df['cast'] = df['cast'].apply(lambda x:[str(i).replace(' ','') for i in x])"
   ]
  },
  {
   "cell_type": "code",
   "execution_count": 107,
   "metadata": {},
   "outputs": [],
   "source": [
    "df['director'] = df['director'].apply(lambda x:[str(x).replace(' ','')])"
   ]
  },
  {
   "cell_type": "code",
   "execution_count": 108,
   "metadata": {},
   "outputs": [],
   "source": [
    "df['keywords'] = df['keywords'].apply(lambda x:[str(i).replace(' ','') for i in x])"
   ]
  },
  {
   "cell_type": "code",
   "execution_count": 109,
   "metadata": {},
   "outputs": [],
   "source": [
    "df['genres'] = df['genres'].apply(lambda x:[str(i).replace(' ','') for i in x])"
   ]
  },
  {
   "cell_type": "code",
   "execution_count": 110,
   "metadata": {},
   "outputs": [],
   "source": [
    "df['overview'] = df['overview'].apply(lambda x:str(x).split(' '))"
   ]
  },
  {
   "cell_type": "code",
   "execution_count": 111,
   "metadata": {},
   "outputs": [],
   "source": [
    "df['release_year'] = df['release_year'].apply(lambda x:[str(x)])"
   ]
  },
  {
   "cell_type": "code",
   "execution_count": 112,
   "metadata": {},
   "outputs": [],
   "source": [
    "df['corpus'] = df['overview'] + df['keywords'] + df['genres'] + df['cast'] + df['director'] + df['release_year']"
   ]
  },
  {
   "cell_type": "code",
   "execution_count": 113,
   "metadata": {},
   "outputs": [],
   "source": [
    "new_df = df[['id','original_title','corpus','vote_average']]"
   ]
  },
  {
   "cell_type": "code",
   "execution_count": 114,
   "metadata": {},
   "outputs": [
    {
     "name": "stderr",
     "output_type": "stream",
     "text": [
      "/tmp/ipykernel_12075/3919970262.py:1: SettingWithCopyWarning: \n",
      "A value is trying to be set on a copy of a slice from a DataFrame.\n",
      "Try using .loc[row_indexer,col_indexer] = value instead\n",
      "\n",
      "See the caveats in the documentation: https://pandas.pydata.org/pandas-docs/stable/user_guide/indexing.html#returning-a-view-versus-a-copy\n",
      "  new_df['corpus'] = new_df['corpus'].apply(lambda x: \" \".join(x))\n"
     ]
    }
   ],
   "source": [
    "new_df['corpus'] = new_df['corpus'].apply(lambda x: \" \".join(x))"
   ]
  },
  {
   "cell_type": "code",
   "execution_count": 115,
   "metadata": {},
   "outputs": [
    {
     "name": "stderr",
     "output_type": "stream",
     "text": [
      "/tmp/ipykernel_12075/420603864.py:1: SettingWithCopyWarning: \n",
      "A value is trying to be set on a copy of a slice from a DataFrame.\n",
      "Try using .loc[row_indexer,col_indexer] = value instead\n",
      "\n",
      "See the caveats in the documentation: https://pandas.pydata.org/pandas-docs/stable/user_guide/indexing.html#returning-a-view-versus-a-copy\n",
      "  new_df['corpus'] = new_df['corpus'].apply(lambda x: str.lower(x))\n"
     ]
    }
   ],
   "source": [
    "new_df['corpus'] = new_df['corpus'].apply(lambda x: str.lower(x))"
   ]
  },
  {
   "cell_type": "code",
   "execution_count": 116,
   "metadata": {},
   "outputs": [],
   "source": [
    "from nltk.stem.porter import PorterStemmer\n",
    "ps = PorterStemmer()"
   ]
  },
  {
   "cell_type": "code",
   "execution_count": 117,
   "metadata": {},
   "outputs": [],
   "source": [
    "def stem(text):\n",
    "    words = []\n",
    "    for i in text.split():\n",
    "        words.append(ps.stem(i))\n",
    "    \n",
    "    return \" \".join(words)"
   ]
  },
  {
   "cell_type": "code",
   "execution_count": 118,
   "metadata": {},
   "outputs": [],
   "source": [
    "# new_df['corpus'] = new_df['corpus'].apply(stem)"
   ]
  },
  {
   "cell_type": "code",
   "execution_count": 119,
   "metadata": {},
   "outputs": [],
   "source": [
    "from sklearn.feature_extraction.text import CountVectorizer"
   ]
  },
  {
   "cell_type": "markdown",
   "metadata": {},
   "source": [
    "# Stop Words = a,the,of,after,now"
   ]
  },
  {
   "cell_type": "code",
   "execution_count": 120,
   "metadata": {},
   "outputs": [],
   "source": [
    "cv = CountVectorizer(stop_words='english',min_df=2)"
   ]
  },
  {
   "cell_type": "code",
   "execution_count": 121,
   "metadata": {},
   "outputs": [],
   "source": [
    "data = cv.fit_transform(new_df['corpus']).toarray()"
   ]
  },
  {
   "cell_type": "code",
   "execution_count": 122,
   "metadata": {},
   "outputs": [],
   "source": [
    "pickle.dump(data,open('similarity.sav','wb'))"
   ]
  },
  {
   "cell_type": "code",
   "execution_count": 123,
   "metadata": {},
   "outputs": [],
   "source": [
    "from sklearn.metrics.pairwise import cosine_similarity"
   ]
  },
  {
   "cell_type": "code",
   "execution_count": 124,
   "metadata": {},
   "outputs": [],
   "source": [
    "similarity = cosine_similarity(data)"
   ]
  },
  {
   "cell_type": "code",
   "execution_count": 125,
   "metadata": {},
   "outputs": [],
   "source": [
    "new_df = new_df.rename({'original_title':'title'},axis=1)"
   ]
  },
  {
   "cell_type": "code",
   "execution_count": 126,
   "metadata": {},
   "outputs": [
    {
     "data": {
      "text/plain": [
       "[(4395, 0.27931019386546413),\n",
       " (8695, 0.23911404992940524),\n",
       " (8666, 0.22156468376279895),\n",
       " (5701, 0.18181818181818185),\n",
       " (405, 0.16283473681973243),\n",
       " (37, 0.15974461276617435),\n",
       " (226, 0.14083575804390608),\n",
       " (6635, 0.1371450962647483),\n",
       " (7723, 0.13483997249264842),\n",
       " (85, 0.13273296830047474)]"
      ]
     },
     "execution_count": 126,
     "metadata": {},
     "output_type": "execute_result"
    }
   ],
   "source": [
    "sorted(list(enumerate(similarity[0])),reverse=True,key= lambda x:x[1])[1:11]"
   ]
  },
  {
   "cell_type": "code",
   "execution_count": 127,
   "metadata": {},
   "outputs": [
    {
     "data": {
      "text/plain": [
       "id                                                           135397\n",
       "original_title                                       Jurassic World\n",
       "cast              [ChrisPratt, BryceDallasHoward, IrrfanKhan, Vi...\n",
       "director                                           [ColinTrevorrow]\n",
       "keywords          [monster, dna, tyrannosaurusrex, velociraptor,...\n",
       "overview          [Twenty-two, years, after, the, events, of, Ju...\n",
       "genres                                           [A, c, t, i, o, n]\n",
       "release_year                                                 [2015]\n",
       "vote_average                                                    6.5\n",
       "corpus            [Twenty-two, years, after, the, events, of, Ju...\n",
       "Name: 0, dtype: object"
      ]
     },
     "execution_count": 127,
     "metadata": {},
     "output_type": "execute_result"
    }
   ],
   "source": [
    "df.iloc[0]"
   ]
  },
  {
   "cell_type": "code",
   "execution_count": 128,
   "metadata": {},
   "outputs": [],
   "source": [
    "def recommend(movie):\n",
    "    movie_index = new_df[new_df['id'] == int(movie)].index[0]\n",
    "    movie_list = sorted(list(enumerate(similarity[movie_index])),reverse=True,key= lambda x:x[1])[1:11]\n",
    "    rec_movies = []\n",
    "    for i in movie_list:\n",
    "        rec_movies.append(new_df.iloc[i[0]][0])\n",
    "    return {'ids':rec_movies}"
   ]
  },
  {
   "cell_type": "code",
   "execution_count": 129,
   "metadata": {},
   "outputs": [
    {
     "data": {
      "text/plain": [
       "52"
      ]
     },
     "execution_count": 129,
     "metadata": {},
     "output_type": "execute_result"
    }
   ],
   "source": [
    "new_df[new_df['id'] == 253412].index[0]"
   ]
  },
  {
   "cell_type": "code",
   "execution_count": 130,
   "metadata": {},
   "outputs": [
    {
     "data": {
      "text/plain": [
       "155"
      ]
     },
     "execution_count": 130,
     "metadata": {},
     "output_type": "execute_result"
    }
   ],
   "source": [
    "new_df[new_df['title'] == 'The Dark Knight'].iloc[0][0]"
   ]
  },
  {
   "cell_type": "code",
   "execution_count": 131,
   "metadata": {},
   "outputs": [
    {
     "data": {
      "text/plain": [
       "{'ids': [27786, 9659, 14642, 20504, 38695, 11036, 4917, 310135, 287424, 84226]}"
      ]
     },
     "execution_count": 131,
     "metadata": {},
     "output_type": "execute_result"
    }
   ],
   "source": [
    "recommend(76341)\n"
   ]
  },
  {
   "cell_type": "code",
   "execution_count": 132,
   "metadata": {},
   "outputs": [],
   "source": [
    "genre = [\n",
    "    {\n",
    "        \"id\": 28,\n",
    "        \"name\": \"Action\"\n",
    "    },\n",
    "    {\n",
    "        \"id\": 12,\n",
    "        \"name\": \"Adventure\"\n",
    "    },\n",
    "    {\n",
    "        \"id\": 16,\n",
    "        \"name\": \"Animation\"\n",
    "    },\n",
    "    {\n",
    "        \"id\": 35,\n",
    "        \"name\": \"Comedy\"\n",
    "    },\n",
    "    {\n",
    "        \"id\": 80,\n",
    "        \"name\": \"Crime\"\n",
    "    },\n",
    "    {\n",
    "        \"id\": 99,\n",
    "        \"name\": \"Documentary\"\n",
    "    },\n",
    "    {\n",
    "        \"id\": 18,\n",
    "        \"name\": \"Drama\"\n",
    "    },\n",
    "    {\n",
    "        \"id\": 10751,\n",
    "        \"name\": \"Family\"\n",
    "    },\n",
    "    {\n",
    "        \"id\": 14,\n",
    "        \"name\": \"Fantasy\"\n",
    "    },\n",
    "    {\n",
    "        \"id\": 36,\n",
    "        \"name\": \"History\"\n",
    "    },\n",
    "    {\n",
    "        \"id\": 27,\n",
    "        \"name\": \"Horror\"\n",
    "    },\n",
    "    {\n",
    "        \"id\": 10402,\n",
    "        \"name\": \"Music\"\n",
    "    },\n",
    "    {\n",
    "        \"id\": 9648,\n",
    "        \"name\": \"Mystery\"\n",
    "    },\n",
    "    {\n",
    "        \"id\": 10749,\n",
    "        \"name\": \"Romance\"\n",
    "    },\n",
    "    {\n",
    "        \"id\": 878,\n",
    "        \"name\": \"Science Fiction\"\n",
    "    },\n",
    "    {\n",
    "        \"id\": 10770,\n",
    "        \"name\": \"TV Movie\"\n",
    "    },\n",
    "    {\n",
    "        \"id\": 53,\n",
    "        \"name\": \"Thriller\"\n",
    "    },\n",
    "    {\n",
    "        \"id\": 10752,\n",
    "        \"name\": \"War\"\n",
    "    },\n",
    "    {\n",
    "        \"id\": 37,\n",
    "        \"name\": \"Western\"\n",
    "    }\n",
    "]"
   ]
  },
  {
   "cell_type": "code",
   "execution_count": 133,
   "metadata": {},
   "outputs": [],
   "source": [
    "import json\n",
    "movie_lists = []\n",
    "for i in genre:\n",
    "    movie_lists.append({ \n",
    "        i['name'] :rec_df[rec_df['genres'] == i['name']].iloc[0:19]['id'].to_list()\n",
    "    })\n"
   ]
  },
  {
   "cell_type": "code",
   "execution_count": 134,
   "metadata": {},
   "outputs": [],
   "source": [
    "new_df.reset_index(drop=True)\n",
    "pickle.dump(new_df,open('data.sav','wb'))\n",
    "pickle.dump(similarity,open('similarity.sav','wb'))"
   ]
  },
  {
   "cell_type": "code",
   "execution_count": 135,
   "metadata": {},
   "outputs": [],
   "source": [
    "pickle.dump(similarity,open('similarity.pbz2','wb'))"
   ]
  },
  {
   "cell_type": "code",
   "execution_count": 136,
   "metadata": {},
   "outputs": [
    {
     "name": "stdout",
     "output_type": "stream",
     "text": [
      "2712\n"
     ]
    }
   ],
   "source": [
    "import random\n",
    "print(random.randint(0,9306))"
   ]
  }
 ],
 "metadata": {
  "interpreter": {
   "hash": "f9f85f796d01129d0dd105a088854619f454435301f6ffec2fea96ecbd9be4ac"
  },
  "kernelspec": {
   "display_name": "Python 3.9.5 64-bit",
   "language": "python",
   "name": "python3"
  },
  "language_info": {
   "codemirror_mode": {
    "name": "ipython",
    "version": 3
   },
   "file_extension": ".py",
   "mimetype": "text/x-python",
   "name": "python",
   "nbconvert_exporter": "python",
   "pygments_lexer": "ipython3",
   "version": "3.9.5"
  },
  "orig_nbformat": 4
 },
 "nbformat": 4,
 "nbformat_minor": 2
}
